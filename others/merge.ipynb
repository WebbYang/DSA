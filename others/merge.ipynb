{
 "cells": [
  {
   "cell_type": "code",
   "execution_count": 2,
   "metadata": {},
   "outputs": [],
   "source": [
    "class Solution:\n",
    "    def merge(self, nums1, m: int, nums2, n: int) -> None:\n",
    "        \"\"\"\n",
    "        Do not return anything, modify nums1 in-place instead.\n",
    "        \"\"\"\n",
    "        i,j = 0,0\n",
    "        val = nums2[j]\n",
    "        while j<n:\n",
    "            if i<m:             \n",
    "                if nums1[i]>val:\n",
    "                    nums1 = nums1[:i]+[val] + nums1[i:-1]\n",
    "                    #print(nums1)\n",
    "                    j+=1\n",
    "                    val = nums2[j]\n",
    "                else:\n",
    "                    i+=1\n",
    "                    #print(nums1)\n",
    "            else:\n",
    "                nums1[m+n-j-1:] = nums2[j:]\n",
    "                #print(nums1)\n",
    "                #break\n",
    "                return nums1 \n",
    "        #print(\"Final: \", nums1)\n",
    "        "
   ]
  },
  {
   "cell_type": "code",
   "execution_count": 3,
   "metadata": {},
   "outputs": [
    {
     "data": {
      "text/plain": [
       "[1, 2, 2, 3, 5, 6]"
      ]
     },
     "execution_count": 3,
     "metadata": {},
     "output_type": "execute_result"
    }
   ],
   "source": [
    "sol = Solution()\n",
    "sol.merge([1,2,3,0,0,0],3,[2,5,6],3)"
   ]
  },
  {
   "cell_type": "code",
   "execution_count": null,
   "metadata": {},
   "outputs": [],
   "source": []
  }
 ],
 "metadata": {
  "kernelspec": {
   "display_name": "Python 3",
   "language": "python",
   "name": "python3"
  },
  "language_info": {
   "codemirror_mode": {
    "name": "ipython",
    "version": 3
   },
   "file_extension": ".py",
   "mimetype": "text/x-python",
   "name": "python",
   "nbconvert_exporter": "python",
   "pygments_lexer": "ipython3",
   "version": "3.7.4"
  }
 },
 "nbformat": 4,
 "nbformat_minor": 2
}
