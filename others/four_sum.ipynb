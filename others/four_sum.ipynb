{
 "cells": [
  {
   "cell_type": "markdown",
   "metadata": {},
   "source": [
    "### Calculate how many ways to add up to 16"
   ]
  },
  {
   "cell_type": "code",
   "execution_count": 1,
   "metadata": {},
   "outputs": [],
   "source": [
    "arr = [4,6,10,16]"
   ]
  },
  {
   "cell_type": "code",
   "execution_count": 12,
   "metadata": {},
   "outputs": [],
   "source": [
    "memo_pair = {}\n",
    "\n",
    "def cnt_ways(data, sum_val):\n",
    "    key = str(data)+'_'+str(sum_val)\n",
    "    if key in memo_pair.keys():\n",
    "        return 1\n",
    "    elif sum_val==0:\n",
    "        return 1\n",
    "    elif sum_val<0:\n",
    "        return 0\n",
    "    elif sum(data)<sum_val:\n",
    "        return 0\n",
    "    else:\n",
    "        ans = cnt_ways(data[:-1], sum_val) + cnt_ways(data[:-1], sum_val-data[-1])         \n",
    "        memo_pair[key] = ans\n",
    "        print('%s: %d'%(key,ans))\n",
    "        return ans"
   ]
  },
  {
   "cell_type": "code",
   "execution_count": 9,
   "metadata": {},
   "outputs": [
    {
     "data": {
      "text/plain": [
       "2"
      ]
     },
     "execution_count": 9,
     "metadata": {},
     "output_type": "execute_result"
    }
   ],
   "source": [
    "cnt_ways(arr, 16)"
   ]
  },
  {
   "cell_type": "code",
   "execution_count": 13,
   "metadata": {},
   "outputs": [
    {
     "name": "stdout",
     "output_type": "stream",
     "text": [
      "[1]_1: 1\n",
      "[1, 2]_3: 1\n",
      "[1, 2, 3]_3: 2\n",
      "[1, 2, 3, 9]_12: 2\n",
      "[1, 2]_2: 1\n",
      "[1, 2, 3]_2: 1\n",
      "[1, 2, 3, 9]_2: 1\n",
      "[1, 2, 3, 9, 10]_12: 3\n",
      "[1, 2]_1: 1\n",
      "[1, 2, 3]_1: 1\n",
      "[1, 2, 3, 9]_1: 1\n",
      "[1, 2, 3, 9, 10]_1: 1\n",
      "[1, 2, 3, 9, 10, 11]_12: 4\n",
      "[1, 2, 3, 9, 10, 11, 12]_12: 5\n"
     ]
    },
    {
     "data": {
      "text/plain": [
       "5"
      ]
     },
     "execution_count": 13,
     "metadata": {},
     "output_type": "execute_result"
    }
   ],
   "source": [
    "cnt_ways([1,2,3,9,10,11,12], 12)"
   ]
  },
  {
   "cell_type": "code",
   "execution_count": null,
   "metadata": {},
   "outputs": [],
   "source": []
  }
 ],
 "metadata": {
  "kernelspec": {
   "display_name": "Python 3",
   "language": "python",
   "name": "python3"
  },
  "language_info": {
   "codemirror_mode": {
    "name": "ipython",
    "version": 3
   },
   "file_extension": ".py",
   "mimetype": "text/x-python",
   "name": "python",
   "nbconvert_exporter": "python",
   "pygments_lexer": "ipython3",
   "version": "3.7.4"
  }
 },
 "nbformat": 4,
 "nbformat_minor": 2
}
